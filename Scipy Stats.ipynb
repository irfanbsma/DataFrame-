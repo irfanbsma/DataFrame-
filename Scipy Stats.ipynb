{
 "cells": [
  {
   "cell_type": "code",
   "execution_count": 9,
   "id": "80fc3395-6ebf-4f4e-9f37-4ba8ad1fa143",
   "metadata": {
    "tags": []
   },
   "outputs": [],
   "source": [
    "import matplotlib.pyplot as plt\n",
    "from scipy import stats\n",
    "import numpy as np\n",
    "%matplotlib inline"
   ]
  },
  {
   "cell_type": "code",
   "execution_count": 3,
   "id": "b42728aa-a795-4615-bd3d-4f0c53976df0",
   "metadata": {
    "tags": []
   },
   "outputs": [
    {
     "data": {
      "text/plain": [
       "array([  1,   2,   3,   4,   5,   6,   7,   8,   9,  10,  11,  12,  13,\n",
       "        14,  15,  16,  17,  18,  19,  20,  21,  22,  23,  24,  25,  26,\n",
       "        27,  28,  29,  30,  31,  32,  33,  34,  35,  36,  37,  38,  39,\n",
       "        40,  41,  42,  43,  44,  45,  46,  47,  48,  49,  50,  51,  52,\n",
       "        53,  54,  55,  56,  57,  58,  59,  60,  61,  62,  63,  64,  65,\n",
       "        66,  67,  68,  69,  70,  71,  72,  73,  74,  75,  76,  77,  78,\n",
       "        79,  80,  81,  82,  83,  84,  85,  86,  87,  88,  89,  90,  91,\n",
       "        92,  93,  94,  95,  96,  97,  98,  99, 100,  99,  99,  11,  11,\n",
       "        11])"
      ]
     },
     "execution_count": 3,
     "metadata": {},
     "output_type": "execute_result"
    }
   ],
   "source": [
    "x=np.arange(1,101)\n",
    "y=np.array([99,99,11,11,11])\n",
    "x=np.concatenate((x,y))\n",
    "x"
   ]
  },
  {
   "cell_type": "code",
   "execution_count": 4,
   "id": "daf73fe6-1547-430a-ae6b-932e2ddcdfa4",
   "metadata": {
    "tags": []
   },
   "outputs": [
    {
     "name": "stdout",
     "output_type": "stream",
     "text": [
      "Measures of Centeral Tendency:\n",
      "Mean(tells about average value)=50.2952380952381\n",
      "Median(tells about middle most value in ascending order sorted values)=50.0\n",
      "Mode(tells about most repeated (frequent) value value)=ModeResult(mode=11, count=4)\n"
     ]
    }
   ],
   "source": [
    "#Descriptive Stats:\n",
    "mode=stats.mode(x)\n",
    "print(f'Measures of Centeral Tendency:\\nMean(tells about average value)={np.mean(x)}\\nMedian(tells about middle most value in ascending order sorted values)={np.median(x)}\\nMode(tells about most repeated (frequent) value value)={mode}')"
   ]
  },
  {
   "cell_type": "code",
   "execution_count": 5,
   "id": "5807c814-bc34-4b63-a857-35ba76658c34",
   "metadata": {
    "tags": []
   },
   "outputs": [
    {
     "name": "stdout",
     "output_type": "stream",
     "text": [
      "Min Value=1\n",
      "Max Value=100\n",
      "Variance(tells us about variations in data)=882.9128344671202\n",
      "Stand. Dev.(deviation of data from)=29.71384920314297\n"
     ]
    }
   ],
   "source": [
    "print(f'Min Value={np.min(x)}\\nMax Value={np.max(x)}\\nVariance(tells us about variations in data)={np.var(x)}\\nStand. Dev.(deviation of data from)={np.std(x)}')"
   ]
  },
  {
   "cell_type": "code",
   "execution_count": 36,
   "id": "7794e5ea-b562-4218-a7ce-3853b80f038f",
   "metadata": {
    "tags": []
   },
   "outputs": [
    {
     "data": {
      "text/plain": [
       "array([[[0.40526019, 0.33153101, 0.16225637],\n",
       "        [0.05370176, 0.49114347, 0.07716017]],\n",
       "\n",
       "       [[0.68845872, 0.37522947, 0.81308323],\n",
       "        [0.12953465, 0.19975772, 0.91070374]],\n",
       "\n",
       "       [[0.79824703, 0.70559639, 0.38435269],\n",
       "        [0.4381067 , 0.92624074, 0.98662244]],\n",
       "\n",
       "       [[0.77912029, 0.7689028 , 0.94786088],\n",
       "        [0.53357131, 0.14513722, 0.27384789]]])"
      ]
     },
     "execution_count": 36,
     "metadata": {},
     "output_type": "execute_result"
    }
   ],
   "source": [
    "#Random Numbers:\n",
    "r=np.random.rand(4, 2, 3) #generates uniformly distributed floating-point numbers in the half-open interval [0, 1) (i.e., 0.0 is a possible outcome, but 1.0 is not).\n",
    "r"
   ]
  },
  {
   "cell_type": "code",
   "execution_count": 38,
   "id": "ec3974f3-52c6-4b74-ad6b-6a2ec25dabe0",
   "metadata": {
    "tags": []
   },
   "outputs": [
    {
     "data": {
      "text/plain": [
       "array([[-0.91922678,  0.93242536],\n",
       "       [-2.4056653 , -1.50685404],\n",
       "       [ 0.03711596,  2.13777893],\n",
       "       [ 0.54053316, -0.37194821],\n",
       "       [-0.0672052 ,  0.87126474],\n",
       "       [-0.45496617, -0.84351787],\n",
       "       [-0.40840852,  0.83910657],\n",
       "       [-0.13072264,  0.29531629],\n",
       "       [ 0.06867006,  0.95243472],\n",
       "       [ 0.37883258,  0.79995953],\n",
       "       [ 1.98877973,  0.06535878],\n",
       "       [ 0.76910512, -1.9078561 ],\n",
       "       [-1.27046172, -0.2049415 ],\n",
       "       [ 0.13996496,  0.94047715],\n",
       "       [ 0.56599006,  0.06696787],\n",
       "       [ 2.92949424,  0.37531134],\n",
       "       [ 0.37733137, -0.46646498],\n",
       "       [ 0.35540717,  0.86971427],\n",
       "       [-1.53152836,  0.23204367],\n",
       "       [ 1.37139325,  1.3383453 ]])"
      ]
     },
     "execution_count": 38,
     "metadata": {},
     "output_type": "execute_result"
    }
   ],
   "source": [
    "r=np.random.randn(20 ,2) # generates random numbers that are distributed according to the standard normal distribution (the normal distribution with mean 0 and standard deviation 1)\n",
    "r"
   ]
  },
  {
   "cell_type": "code",
   "execution_count": 44,
   "id": "4df00d9b-c1e7-4dd1-b007-15ba64c7a6b7",
   "metadata": {},
   "outputs": [
    {
     "data": {
      "text/plain": [
       "array([[5, 3],\n",
       "       [5, 4]])"
      ]
     },
     "execution_count": 44,
     "metadata": {},
     "output_type": "execute_result"
    }
   ],
   "source": [
    "r=np.random.randint(2, 7, [2,2]) #generates uniformly distributed integers between a given low (inclusive) and high(exclusive) value.\n",
    "r"
   ]
  },
  {
   "cell_type": "code",
   "execution_count": null,
   "id": "84cfb0d4-89b4-417a-9ee4-f31c9fb81935",
   "metadata": {},
   "outputs": [],
   "source": []
  },
  {
   "cell_type": "code",
   "execution_count": null,
   "id": "4f0f7df1-4007-434c-a3ba-64d55478174a",
   "metadata": {},
   "outputs": [],
   "source": []
  },
  {
   "cell_type": "code",
   "execution_count": null,
   "id": "aa6cf36e-a649-4584-8595-0a2959d527e5",
   "metadata": {},
   "outputs": [],
   "source": []
  },
  {
   "cell_type": "code",
   "execution_count": null,
   "id": "6d9779c4-19fd-4b60-91ad-221fff7eda38",
   "metadata": {
    "tags": []
   },
   "outputs": [],
   "source": [
    "filepath = \"https://cf-courses-data.s3.us.cloud-object-storage.appdomain.cloud/IBMDeveloperSkillsNetwork-DA0101EN-SkillsNetwork/labs/Data%20files/auto.csv\"\n",
    "df = pd.read_csv(filepath, header=None)"
   ]
  },
  {
   "cell_type": "code",
   "execution_count": null,
   "id": "a5f1d013-60cf-44ae-8d99-23f3c658a357",
   "metadata": {
    "tags": []
   },
   "outputs": [],
   "source": [
    "df.head()"
   ]
  },
  {
   "cell_type": "code",
   "execution_count": null,
   "id": "9fb3580e-7a3b-4f5a-a675-f2f649f67db3",
   "metadata": {
    "tags": []
   },
   "outputs": [],
   "source": [
    "df.columns=[\"symboling\",\"normalized-losses\",\"make\",\"fuel-type\",\"aspiration\", \"num-of-doors\",\"body-style\",\n",
    "         \"drive-wheels\",\"engine-location\",\"wheel-base\", \"length\",\"width\",\"height\",\"curb-weight\",\"engine-type\",\n",
    "         \"num-of-cylinders\", \"engine-size\",\"fuel-system\",\"bore\",\"stroke\",\"compression-ratio\",\"horsepower\",\n",
    "         \"peak-rpm\",\"city-mpg\",\"highway-mpg\",\"price\"]"
   ]
  },
  {
   "cell_type": "code",
   "execution_count": null,
   "id": "aa924e38-e9e8-4eb3-92fd-0ed072affd66",
   "metadata": {
    "tags": []
   },
   "outputs": [],
   "source": [
    "df.head()"
   ]
  },
  {
   "cell_type": "code",
   "execution_count": null,
   "id": "2f14a429-cd92-46a9-8432-013b69e77793",
   "metadata": {},
   "outputs": [],
   "source": []
  }
 ],
 "metadata": {
  "kernelspec": {
   "display_name": "Python 3 (ipykernel)",
   "language": "python",
   "name": "python3"
  },
  "language_info": {
   "codemirror_mode": {
    "name": "ipython",
    "version": 3
   },
   "file_extension": ".py",
   "mimetype": "text/x-python",
   "name": "python",
   "nbconvert_exporter": "python",
   "pygments_lexer": "ipython3",
   "version": "3.11.5"
  }
 },
 "nbformat": 4,
 "nbformat_minor": 5
}
