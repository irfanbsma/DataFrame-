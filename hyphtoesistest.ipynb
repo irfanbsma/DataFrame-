{
 "cells": [
  {
   "cell_type": "code",
   "execution_count": 1,
   "id": "30ee2c3d-d949-4e87-a7b9-602b78c4bb23",
   "metadata": {
    "tags": []
   },
   "outputs": [
    {
     "data": {
      "text/html": [
       "<div>\n",
       "<style scoped>\n",
       "    .dataframe tbody tr th:only-of-type {\n",
       "        vertical-align: middle;\n",
       "    }\n",
       "\n",
       "    .dataframe tbody tr th {\n",
       "        vertical-align: top;\n",
       "    }\n",
       "\n",
       "    .dataframe thead th {\n",
       "        text-align: right;\n",
       "    }\n",
       "</style>\n",
       "<table border=\"1\" class=\"dataframe\">\n",
       "  <thead>\n",
       "    <tr style=\"text-align: right;\">\n",
       "      <th></th>\n",
       "      <th>State</th>\n",
       "      <th>Population</th>\n",
       "      <th>Murder Rate</th>\n",
       "    </tr>\n",
       "  </thead>\n",
       "  <tbody>\n",
       "    <tr>\n",
       "      <th>0</th>\n",
       "      <td>Alabama</td>\n",
       "      <td>4779736</td>\n",
       "      <td>5.7</td>\n",
       "    </tr>\n",
       "    <tr>\n",
       "      <th>1</th>\n",
       "      <td>Alaska</td>\n",
       "      <td>710231</td>\n",
       "      <td>5.6</td>\n",
       "    </tr>\n",
       "    <tr>\n",
       "      <th>2</th>\n",
       "      <td>Arizona</td>\n",
       "      <td>6392017</td>\n",
       "      <td>4.7</td>\n",
       "    </tr>\n",
       "    <tr>\n",
       "      <th>3</th>\n",
       "      <td>Arkansas</td>\n",
       "      <td>2915918</td>\n",
       "      <td>5.6</td>\n",
       "    </tr>\n",
       "    <tr>\n",
       "      <th>4</th>\n",
       "      <td>California</td>\n",
       "      <td>37253956</td>\n",
       "      <td>4.4</td>\n",
       "    </tr>\n",
       "    <tr>\n",
       "      <th>5</th>\n",
       "      <td>Colorado</td>\n",
       "      <td>5029196</td>\n",
       "      <td>2.8</td>\n",
       "    </tr>\n",
       "    <tr>\n",
       "      <th>6</th>\n",
       "      <td>Connecticut</td>\n",
       "      <td>3574097</td>\n",
       "      <td>2.4</td>\n",
       "    </tr>\n",
       "    <tr>\n",
       "      <th>7</th>\n",
       "      <td>Delaware</td>\n",
       "      <td>897934</td>\n",
       "      <td>5.8</td>\n",
       "    </tr>\n",
       "  </tbody>\n",
       "</table>\n",
       "</div>"
      ],
      "text/plain": [
       "         State  Population  Murder Rate\n",
       "0      Alabama     4779736          5.7\n",
       "1       Alaska      710231          5.6\n",
       "2      Arizona     6392017          4.7\n",
       "3     Arkansas     2915918          5.6\n",
       "4   California    37253956          4.4\n",
       "5     Colorado     5029196          2.8\n",
       "6  Connecticut     3574097          2.4\n",
       "7     Delaware      897934          5.8"
      ]
     },
     "execution_count": 1,
     "metadata": {},
     "output_type": "execute_result"
    }
   ],
   "source": [
    "import numpy as np\n",
    "import pandas as pd\n",
    "data = {\n",
    "    'State': ['Alabama', 'Alaska', 'Arizona', 'Arkansas', 'California', 'Colorado', 'Connecticut', 'Delaware'],\n",
    "    'Population': [4779736, 710231, 6392017, 2915918, 37253956, 5029196, 3574097, 897934],\n",
    "    'Murder Rate': [5.7, 5.6, 4.7, 5.6, 4.4, 2.8, 2.4, 5.8]\n",
    "}\n",
    "md = pd.DataFrame( data )\n",
    "md"
   ]
  },
  {
   "cell_type": "code",
   "execution_count": 7,
   "id": "c0266993-e6ef-48a1-b145-fe96f4c6d3d4",
   "metadata": {
    "tags": []
   },
   "outputs": [
    {
     "data": {
      "text/plain": [
       "7694135.625"
      ]
     },
     "execution_count": 7,
     "metadata": {},
     "output_type": "execute_result"
    }
   ],
   "source": [
    "np.mean(md['Population'], trim=0.1)"
   ]
  },
  {
   "cell_type": "code",
   "execution_count": 18,
   "id": "86f5137b-e27a-4595-9d6b-b16444fb34d3",
   "metadata": {
    "tags": []
   },
   "outputs": [
    {
     "data": {
      "text/plain": [
       "4074736.75"
      ]
     },
     "execution_count": 18,
     "metadata": {},
     "output_type": "execute_result"
    }
   ],
   "source": [
    "#trim mean \n",
    "from scipy.stats import trim_mean\n",
    "a=trim_mean(md['Population'], proportiontocut=0.)\n",
    "a"
   ]
  },
  {
   "cell_type": "code",
   "execution_count": 1,
   "id": "b7cc19bd-9621-4bc2-8a84-642f24e2dc4c",
   "metadata": {},
   "outputs": [
    {
     "name": "stdout",
     "output_type": "stream",
     "text": [
      "T-statistic: 7.363636363636362\n",
      "P-value: 4.2649381051175827e-05\n",
      "Reject null hypothesis: The average exam score is significantly different from 75.\n"
     ]
    }
   ],
   "source": [
    "import numpy as np\n",
    "from scipy import stats\n",
    "\n",
    "# Sample exam scores\n",
    "exam_scores = [85, 90, 88, 92, 78, 80, 85, 88, 82, 90]\n",
    "\n",
    "# Hypothesized population mean\n",
    "mu = 75\n",
    "\n",
    "# Perform one-sample t-test\n",
    "t_statistic, p_value = stats.ttest_1samp(exam_scores, mu)\n",
    "\n",
    "# Print results\n",
    "print(\"T-statistic:\", t_statistic)\n",
    "print(\"P-value:\", p_value)\n",
    "\n",
    "# Compare p-value to significance level\n",
    "alpha = 0.05\n",
    "if p_value < alpha:\n",
    "    print(\"Reject null hypothesis: The average exam score is significantly different from 75.\")\n",
    "else:\n",
    "    print(\"Fail to reject null hypothesis: The average exam score is not significantly different from 75.\")"
   ]
  },
  {
   "cell_type": "code",
   "execution_count": null,
   "id": "47b37775-3fd9-4d6f-b1ca-271de78d2ab0",
   "metadata": {},
   "outputs": [],
   "source": []
  }
 ],
 "metadata": {
  "kernelspec": {
   "display_name": "Python 3 (ipykernel)",
   "language": "python",
   "name": "python3"
  },
  "language_info": {
   "codemirror_mode": {
    "name": "ipython",
    "version": 3
   },
   "file_extension": ".py",
   "mimetype": "text/x-python",
   "name": "python",
   "nbconvert_exporter": "python",
   "pygments_lexer": "ipython3",
   "version": "3.11.5"
  }
 },
 "nbformat": 4,
 "nbformat_minor": 5
}
